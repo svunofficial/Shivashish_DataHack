{
 "cells": [
  {
   "cell_type": "code",
   "execution_count": 132,
   "id": "6f306763",
   "metadata": {},
   "outputs": [],
   "source": [
    "import os,math\n",
    "import numpy as np\n",
    "import pandas as pd\n",
    "from tqdm.contrib import itertools\n",
    "from matplotlib import pyplot\n",
    "from mpl_toolkits.mplot3d import Axes3D  # needed to plot 3-D surfaces\n",
    "\n",
    "# tells matplotlib to embed plots within the notebook\n",
    "%matplotlib inline\n",
    "from sklearn.model_selection import train_test_split"
   ]
  },
  {
   "cell_type": "code",
   "execution_count": 6,
   "id": "11c211fb",
   "metadata": {},
   "outputs": [],
   "source": [
    "order=pd.read_table('training_set_features.csv',sep=',')"
   ]
  },
  {
   "cell_type": "code",
   "execution_count": 9,
   "id": "269b7d62",
   "metadata": {},
   "outputs": [
    {
     "data": {
      "text/plain": [
       "(26707, 36)"
      ]
     },
     "execution_count": 9,
     "metadata": {},
     "output_type": "execute_result"
    }
   ],
   "source": [
    "order.shape"
   ]
  },
  {
   "cell_type": "code",
   "execution_count": 29,
   "id": "31c2bbcc",
   "metadata": {},
   "outputs": [
    {
     "data": {
      "text/html": [
       "<div>\n",
       "<style scoped>\n",
       "    .dataframe tbody tr th:only-of-type {\n",
       "        vertical-align: middle;\n",
       "    }\n",
       "\n",
       "    .dataframe tbody tr th {\n",
       "        vertical-align: top;\n",
       "    }\n",
       "\n",
       "    .dataframe thead th {\n",
       "        text-align: right;\n",
       "    }\n",
       "</style>\n",
       "<table border=\"1\" class=\"dataframe\">\n",
       "  <thead>\n",
       "    <tr style=\"text-align: right;\">\n",
       "      <th></th>\n",
       "      <th>respondent_id</th>\n",
       "      <th>xyz_concern</th>\n",
       "      <th>xyz_knowledge</th>\n",
       "      <th>behavioral_antiviral_meds</th>\n",
       "      <th>behavioral_avoidance</th>\n",
       "      <th>behavioral_face_mask</th>\n",
       "      <th>behavioral_wash_hands</th>\n",
       "      <th>behavioral_large_gatherings</th>\n",
       "      <th>behavioral_outside_home</th>\n",
       "      <th>behavioral_touch_face</th>\n",
       "      <th>...</th>\n",
       "      <th>income_poverty</th>\n",
       "      <th>marital_status</th>\n",
       "      <th>rent_or_own</th>\n",
       "      <th>employment_status</th>\n",
       "      <th>hhs_geo_region</th>\n",
       "      <th>census_msa</th>\n",
       "      <th>household_adults</th>\n",
       "      <th>household_children</th>\n",
       "      <th>employment_industry</th>\n",
       "      <th>employment_occupation</th>\n",
       "    </tr>\n",
       "  </thead>\n",
       "  <tbody>\n",
       "    <tr>\n",
       "      <th>0</th>\n",
       "      <td>0</td>\n",
       "      <td>1.0</td>\n",
       "      <td>0.0</td>\n",
       "      <td>0.0</td>\n",
       "      <td>0.0</td>\n",
       "      <td>0.0</td>\n",
       "      <td>0.0</td>\n",
       "      <td>0.0</td>\n",
       "      <td>1.0</td>\n",
       "      <td>1.0</td>\n",
       "      <td>...</td>\n",
       "      <td>Below Poverty</td>\n",
       "      <td>Not Married</td>\n",
       "      <td>Own</td>\n",
       "      <td>Not in Labor Force</td>\n",
       "      <td>oxchjgsf</td>\n",
       "      <td>Non-MSA</td>\n",
       "      <td>0.0</td>\n",
       "      <td>0.0</td>\n",
       "      <td>NaN</td>\n",
       "      <td>NaN</td>\n",
       "    </tr>\n",
       "    <tr>\n",
       "      <th>1</th>\n",
       "      <td>1</td>\n",
       "      <td>3.0</td>\n",
       "      <td>2.0</td>\n",
       "      <td>0.0</td>\n",
       "      <td>1.0</td>\n",
       "      <td>0.0</td>\n",
       "      <td>1.0</td>\n",
       "      <td>0.0</td>\n",
       "      <td>1.0</td>\n",
       "      <td>1.0</td>\n",
       "      <td>...</td>\n",
       "      <td>Below Poverty</td>\n",
       "      <td>Not Married</td>\n",
       "      <td>Rent</td>\n",
       "      <td>Employed</td>\n",
       "      <td>bhuqouqj</td>\n",
       "      <td>MSA, Not Principle  City</td>\n",
       "      <td>0.0</td>\n",
       "      <td>0.0</td>\n",
       "      <td>pxcmvdjn</td>\n",
       "      <td>xgwztkwe</td>\n",
       "    </tr>\n",
       "    <tr>\n",
       "      <th>2</th>\n",
       "      <td>2</td>\n",
       "      <td>1.0</td>\n",
       "      <td>1.0</td>\n",
       "      <td>0.0</td>\n",
       "      <td>1.0</td>\n",
       "      <td>0.0</td>\n",
       "      <td>0.0</td>\n",
       "      <td>0.0</td>\n",
       "      <td>0.0</td>\n",
       "      <td>0.0</td>\n",
       "      <td>...</td>\n",
       "      <td>&lt;= $75,000, Above Poverty</td>\n",
       "      <td>Not Married</td>\n",
       "      <td>Own</td>\n",
       "      <td>Employed</td>\n",
       "      <td>qufhixun</td>\n",
       "      <td>MSA, Not Principle  City</td>\n",
       "      <td>2.0</td>\n",
       "      <td>0.0</td>\n",
       "      <td>rucpziij</td>\n",
       "      <td>xtkaffoo</td>\n",
       "    </tr>\n",
       "    <tr>\n",
       "      <th>3</th>\n",
       "      <td>3</td>\n",
       "      <td>1.0</td>\n",
       "      <td>1.0</td>\n",
       "      <td>0.0</td>\n",
       "      <td>1.0</td>\n",
       "      <td>0.0</td>\n",
       "      <td>1.0</td>\n",
       "      <td>1.0</td>\n",
       "      <td>0.0</td>\n",
       "      <td>0.0</td>\n",
       "      <td>...</td>\n",
       "      <td>Below Poverty</td>\n",
       "      <td>Not Married</td>\n",
       "      <td>Rent</td>\n",
       "      <td>Not in Labor Force</td>\n",
       "      <td>lrircsnp</td>\n",
       "      <td>MSA, Principle City</td>\n",
       "      <td>0.0</td>\n",
       "      <td>0.0</td>\n",
       "      <td>NaN</td>\n",
       "      <td>NaN</td>\n",
       "    </tr>\n",
       "    <tr>\n",
       "      <th>4</th>\n",
       "      <td>4</td>\n",
       "      <td>2.0</td>\n",
       "      <td>1.0</td>\n",
       "      <td>0.0</td>\n",
       "      <td>1.0</td>\n",
       "      <td>0.0</td>\n",
       "      <td>1.0</td>\n",
       "      <td>1.0</td>\n",
       "      <td>0.0</td>\n",
       "      <td>1.0</td>\n",
       "      <td>...</td>\n",
       "      <td>&lt;= $75,000, Above Poverty</td>\n",
       "      <td>Married</td>\n",
       "      <td>Own</td>\n",
       "      <td>Employed</td>\n",
       "      <td>qufhixun</td>\n",
       "      <td>MSA, Not Principle  City</td>\n",
       "      <td>1.0</td>\n",
       "      <td>0.0</td>\n",
       "      <td>wxleyezf</td>\n",
       "      <td>emcorrxb</td>\n",
       "    </tr>\n",
       "  </tbody>\n",
       "</table>\n",
       "<p>5 rows × 36 columns</p>\n",
       "</div>"
      ],
      "text/plain": [
       "   respondent_id  xyz_concern  xyz_knowledge  behavioral_antiviral_meds  \\\n",
       "0              0          1.0            0.0                        0.0   \n",
       "1              1          3.0            2.0                        0.0   \n",
       "2              2          1.0            1.0                        0.0   \n",
       "3              3          1.0            1.0                        0.0   \n",
       "4              4          2.0            1.0                        0.0   \n",
       "\n",
       "   behavioral_avoidance  behavioral_face_mask  behavioral_wash_hands  \\\n",
       "0                   0.0                   0.0                    0.0   \n",
       "1                   1.0                   0.0                    1.0   \n",
       "2                   1.0                   0.0                    0.0   \n",
       "3                   1.0                   0.0                    1.0   \n",
       "4                   1.0                   0.0                    1.0   \n",
       "\n",
       "   behavioral_large_gatherings  behavioral_outside_home  \\\n",
       "0                          0.0                      1.0   \n",
       "1                          0.0                      1.0   \n",
       "2                          0.0                      0.0   \n",
       "3                          1.0                      0.0   \n",
       "4                          1.0                      0.0   \n",
       "\n",
       "   behavioral_touch_face  ...             income_poverty  marital_status  \\\n",
       "0                    1.0  ...              Below Poverty     Not Married   \n",
       "1                    1.0  ...              Below Poverty     Not Married   \n",
       "2                    0.0  ...  <= $75,000, Above Poverty     Not Married   \n",
       "3                    0.0  ...              Below Poverty     Not Married   \n",
       "4                    1.0  ...  <= $75,000, Above Poverty         Married   \n",
       "\n",
       "   rent_or_own   employment_status  hhs_geo_region                census_msa  \\\n",
       "0          Own  Not in Labor Force        oxchjgsf                   Non-MSA   \n",
       "1         Rent            Employed        bhuqouqj  MSA, Not Principle  City   \n",
       "2          Own            Employed        qufhixun  MSA, Not Principle  City   \n",
       "3         Rent  Not in Labor Force        lrircsnp       MSA, Principle City   \n",
       "4          Own            Employed        qufhixun  MSA, Not Principle  City   \n",
       "\n",
       "   household_adults  household_children  employment_industry  \\\n",
       "0               0.0                 0.0                  NaN   \n",
       "1               0.0                 0.0             pxcmvdjn   \n",
       "2               2.0                 0.0             rucpziij   \n",
       "3               0.0                 0.0                  NaN   \n",
       "4               1.0                 0.0             wxleyezf   \n",
       "\n",
       "   employment_occupation  \n",
       "0                    NaN  \n",
       "1               xgwztkwe  \n",
       "2               xtkaffoo  \n",
       "3                    NaN  \n",
       "4               emcorrxb  \n",
       "\n",
       "[5 rows x 36 columns]"
      ]
     },
     "execution_count": 29,
     "metadata": {},
     "output_type": "execute_result"
    }
   ],
   "source": [
    "order.head()"
   ]
  },
  {
   "cell_type": "code",
   "execution_count": 11,
   "id": "3c4a3291",
   "metadata": {},
   "outputs": [
    {
     "data": {
      "text/plain": [
       "respondent_id                      0\n",
       "xyz_concern                       92\n",
       "xyz_knowledge                    116\n",
       "behavioral_antiviral_meds         71\n",
       "behavioral_avoidance             208\n",
       "behavioral_face_mask              19\n",
       "behavioral_wash_hands             42\n",
       "behavioral_large_gatherings       87\n",
       "behavioral_outside_home           82\n",
       "behavioral_touch_face            128\n",
       "doctor_recc_xyz                 2160\n",
       "doctor_recc_seasonal            2160\n",
       "chronic_med_condition            971\n",
       "child_under_6_months             820\n",
       "health_worker                    804\n",
       "health_insurance               12274\n",
       "opinion_xyz_vacc_effective       391\n",
       "opinion_xyz_risk                 388\n",
       "opinion_xyz_sick_from_vacc       395\n",
       "opinion_seas_vacc_effective      462\n",
       "opinion_seas_risk                514\n",
       "opinion_seas_sick_from_vacc      537\n",
       "age_group                          0\n",
       "education                       1407\n",
       "race                               0\n",
       "sex                                0\n",
       "income_poverty                  4423\n",
       "marital_status                  1408\n",
       "rent_or_own                     2042\n",
       "employment_status               1463\n",
       "hhs_geo_region                     0\n",
       "census_msa                         0\n",
       "household_adults                 249\n",
       "household_children               249\n",
       "employment_industry            13330\n",
       "employment_occupation          13470\n",
       "dtype: int64"
      ]
     },
     "execution_count": 11,
     "metadata": {},
     "output_type": "execute_result"
    }
   ],
   "source": [
    "order.isna().sum()"
   ]
  },
  {
   "cell_type": "code",
   "execution_count": 12,
   "id": "15d2f5ee",
   "metadata": {},
   "outputs": [],
   "source": [
    "parameters=pd.read_table('training_set_labels.csv',sep=',')"
   ]
  },
  {
   "cell_type": "code",
   "execution_count": 13,
   "id": "18122b66",
   "metadata": {},
   "outputs": [
    {
     "data": {
      "text/html": [
       "<div>\n",
       "<style scoped>\n",
       "    .dataframe tbody tr th:only-of-type {\n",
       "        vertical-align: middle;\n",
       "    }\n",
       "\n",
       "    .dataframe tbody tr th {\n",
       "        vertical-align: top;\n",
       "    }\n",
       "\n",
       "    .dataframe thead th {\n",
       "        text-align: right;\n",
       "    }\n",
       "</style>\n",
       "<table border=\"1\" class=\"dataframe\">\n",
       "  <thead>\n",
       "    <tr style=\"text-align: right;\">\n",
       "      <th></th>\n",
       "      <th>respondent_id</th>\n",
       "      <th>xyz_vaccine</th>\n",
       "      <th>seasonal_vaccine</th>\n",
       "    </tr>\n",
       "  </thead>\n",
       "  <tbody>\n",
       "    <tr>\n",
       "      <th>0</th>\n",
       "      <td>0</td>\n",
       "      <td>0</td>\n",
       "      <td>0</td>\n",
       "    </tr>\n",
       "    <tr>\n",
       "      <th>1</th>\n",
       "      <td>1</td>\n",
       "      <td>0</td>\n",
       "      <td>1</td>\n",
       "    </tr>\n",
       "    <tr>\n",
       "      <th>2</th>\n",
       "      <td>2</td>\n",
       "      <td>0</td>\n",
       "      <td>0</td>\n",
       "    </tr>\n",
       "    <tr>\n",
       "      <th>3</th>\n",
       "      <td>3</td>\n",
       "      <td>0</td>\n",
       "      <td>1</td>\n",
       "    </tr>\n",
       "    <tr>\n",
       "      <th>4</th>\n",
       "      <td>4</td>\n",
       "      <td>0</td>\n",
       "      <td>0</td>\n",
       "    </tr>\n",
       "    <tr>\n",
       "      <th>5</th>\n",
       "      <td>5</td>\n",
       "      <td>0</td>\n",
       "      <td>0</td>\n",
       "    </tr>\n",
       "    <tr>\n",
       "      <th>6</th>\n",
       "      <td>6</td>\n",
       "      <td>0</td>\n",
       "      <td>0</td>\n",
       "    </tr>\n",
       "    <tr>\n",
       "      <th>7</th>\n",
       "      <td>7</td>\n",
       "      <td>1</td>\n",
       "      <td>1</td>\n",
       "    </tr>\n",
       "    <tr>\n",
       "      <th>8</th>\n",
       "      <td>8</td>\n",
       "      <td>0</td>\n",
       "      <td>0</td>\n",
       "    </tr>\n",
       "    <tr>\n",
       "      <th>9</th>\n",
       "      <td>9</td>\n",
       "      <td>0</td>\n",
       "      <td>0</td>\n",
       "    </tr>\n",
       "  </tbody>\n",
       "</table>\n",
       "</div>"
      ],
      "text/plain": [
       "   respondent_id  xyz_vaccine  seasonal_vaccine\n",
       "0              0            0                 0\n",
       "1              1            0                 1\n",
       "2              2            0                 0\n",
       "3              3            0                 1\n",
       "4              4            0                 0\n",
       "5              5            0                 0\n",
       "6              6            0                 0\n",
       "7              7            1                 1\n",
       "8              8            0                 0\n",
       "9              9            0                 0"
      ]
     },
     "execution_count": 13,
     "metadata": {},
     "output_type": "execute_result"
    }
   ],
   "source": [
    "parameters.head(10)"
   ]
  },
  {
   "cell_type": "code",
   "execution_count": 46,
   "id": "7163e246",
   "metadata": {
    "scrolled": true
   },
   "outputs": [
    {
     "data": {
      "text/html": [
       "<div>\n",
       "<style scoped>\n",
       "    .dataframe tbody tr th:only-of-type {\n",
       "        vertical-align: middle;\n",
       "    }\n",
       "\n",
       "    .dataframe tbody tr th {\n",
       "        vertical-align: top;\n",
       "    }\n",
       "\n",
       "    .dataframe thead th {\n",
       "        text-align: right;\n",
       "    }\n",
       "</style>\n",
       "<table border=\"1\" class=\"dataframe\">\n",
       "  <thead>\n",
       "    <tr style=\"text-align: right;\">\n",
       "      <th></th>\n",
       "      <th>xyz_concern</th>\n",
       "      <th>xyz_knowledge</th>\n",
       "      <th>behavioral_antiviral_meds</th>\n",
       "      <th>behavioral_avoidance</th>\n",
       "      <th>behavioral_face_mask</th>\n",
       "      <th>behavioral_wash_hands</th>\n",
       "      <th>behavioral_large_gatherings</th>\n",
       "      <th>behavioral_outside_home</th>\n",
       "      <th>behavioral_touch_face</th>\n",
       "      <th>doctor_recc_xyz</th>\n",
       "      <th>...</th>\n",
       "      <th>rent_or_own</th>\n",
       "      <th>employment_status</th>\n",
       "      <th>hhs_geo_region</th>\n",
       "      <th>census_msa</th>\n",
       "      <th>household_adults</th>\n",
       "      <th>household_children</th>\n",
       "      <th>employment_industry</th>\n",
       "      <th>employment_occupation</th>\n",
       "      <th>xyz_vaccine</th>\n",
       "      <th>seasonal_vaccine</th>\n",
       "    </tr>\n",
       "    <tr>\n",
       "      <th>respondent_id</th>\n",
       "      <th></th>\n",
       "      <th></th>\n",
       "      <th></th>\n",
       "      <th></th>\n",
       "      <th></th>\n",
       "      <th></th>\n",
       "      <th></th>\n",
       "      <th></th>\n",
       "      <th></th>\n",
       "      <th></th>\n",
       "      <th></th>\n",
       "      <th></th>\n",
       "      <th></th>\n",
       "      <th></th>\n",
       "      <th></th>\n",
       "      <th></th>\n",
       "      <th></th>\n",
       "      <th></th>\n",
       "      <th></th>\n",
       "      <th></th>\n",
       "      <th></th>\n",
       "    </tr>\n",
       "  </thead>\n",
       "  <tbody>\n",
       "    <tr>\n",
       "      <th>0</th>\n",
       "      <td>1.0</td>\n",
       "      <td>0.0</td>\n",
       "      <td>0.0</td>\n",
       "      <td>0.0</td>\n",
       "      <td>0.0</td>\n",
       "      <td>0.0</td>\n",
       "      <td>0.0</td>\n",
       "      <td>1.0</td>\n",
       "      <td>1.0</td>\n",
       "      <td>0.0</td>\n",
       "      <td>...</td>\n",
       "      <td>Own</td>\n",
       "      <td>Not in Labor Force</td>\n",
       "      <td>oxchjgsf</td>\n",
       "      <td>Non-MSA</td>\n",
       "      <td>0.0</td>\n",
       "      <td>0.0</td>\n",
       "      <td>NaN</td>\n",
       "      <td>NaN</td>\n",
       "      <td>0</td>\n",
       "      <td>0</td>\n",
       "    </tr>\n",
       "    <tr>\n",
       "      <th>1</th>\n",
       "      <td>3.0</td>\n",
       "      <td>2.0</td>\n",
       "      <td>0.0</td>\n",
       "      <td>1.0</td>\n",
       "      <td>0.0</td>\n",
       "      <td>1.0</td>\n",
       "      <td>0.0</td>\n",
       "      <td>1.0</td>\n",
       "      <td>1.0</td>\n",
       "      <td>0.0</td>\n",
       "      <td>...</td>\n",
       "      <td>Rent</td>\n",
       "      <td>Employed</td>\n",
       "      <td>bhuqouqj</td>\n",
       "      <td>MSA, Not Principle  City</td>\n",
       "      <td>0.0</td>\n",
       "      <td>0.0</td>\n",
       "      <td>pxcmvdjn</td>\n",
       "      <td>xgwztkwe</td>\n",
       "      <td>0</td>\n",
       "      <td>1</td>\n",
       "    </tr>\n",
       "    <tr>\n",
       "      <th>2</th>\n",
       "      <td>1.0</td>\n",
       "      <td>1.0</td>\n",
       "      <td>0.0</td>\n",
       "      <td>1.0</td>\n",
       "      <td>0.0</td>\n",
       "      <td>0.0</td>\n",
       "      <td>0.0</td>\n",
       "      <td>0.0</td>\n",
       "      <td>0.0</td>\n",
       "      <td>NaN</td>\n",
       "      <td>...</td>\n",
       "      <td>Own</td>\n",
       "      <td>Employed</td>\n",
       "      <td>qufhixun</td>\n",
       "      <td>MSA, Not Principle  City</td>\n",
       "      <td>2.0</td>\n",
       "      <td>0.0</td>\n",
       "      <td>rucpziij</td>\n",
       "      <td>xtkaffoo</td>\n",
       "      <td>0</td>\n",
       "      <td>0</td>\n",
       "    </tr>\n",
       "    <tr>\n",
       "      <th>3</th>\n",
       "      <td>1.0</td>\n",
       "      <td>1.0</td>\n",
       "      <td>0.0</td>\n",
       "      <td>1.0</td>\n",
       "      <td>0.0</td>\n",
       "      <td>1.0</td>\n",
       "      <td>1.0</td>\n",
       "      <td>0.0</td>\n",
       "      <td>0.0</td>\n",
       "      <td>0.0</td>\n",
       "      <td>...</td>\n",
       "      <td>Rent</td>\n",
       "      <td>Not in Labor Force</td>\n",
       "      <td>lrircsnp</td>\n",
       "      <td>MSA, Principle City</td>\n",
       "      <td>0.0</td>\n",
       "      <td>0.0</td>\n",
       "      <td>NaN</td>\n",
       "      <td>NaN</td>\n",
       "      <td>0</td>\n",
       "      <td>1</td>\n",
       "    </tr>\n",
       "    <tr>\n",
       "      <th>4</th>\n",
       "      <td>2.0</td>\n",
       "      <td>1.0</td>\n",
       "      <td>0.0</td>\n",
       "      <td>1.0</td>\n",
       "      <td>0.0</td>\n",
       "      <td>1.0</td>\n",
       "      <td>1.0</td>\n",
       "      <td>0.0</td>\n",
       "      <td>1.0</td>\n",
       "      <td>0.0</td>\n",
       "      <td>...</td>\n",
       "      <td>Own</td>\n",
       "      <td>Employed</td>\n",
       "      <td>qufhixun</td>\n",
       "      <td>MSA, Not Principle  City</td>\n",
       "      <td>1.0</td>\n",
       "      <td>0.0</td>\n",
       "      <td>wxleyezf</td>\n",
       "      <td>emcorrxb</td>\n",
       "      <td>0</td>\n",
       "      <td>0</td>\n",
       "    </tr>\n",
       "    <tr>\n",
       "      <th>5</th>\n",
       "      <td>3.0</td>\n",
       "      <td>1.0</td>\n",
       "      <td>0.0</td>\n",
       "      <td>1.0</td>\n",
       "      <td>0.0</td>\n",
       "      <td>1.0</td>\n",
       "      <td>0.0</td>\n",
       "      <td>0.0</td>\n",
       "      <td>1.0</td>\n",
       "      <td>0.0</td>\n",
       "      <td>...</td>\n",
       "      <td>Own</td>\n",
       "      <td>Employed</td>\n",
       "      <td>atmpeygn</td>\n",
       "      <td>MSA, Principle City</td>\n",
       "      <td>2.0</td>\n",
       "      <td>3.0</td>\n",
       "      <td>saaquncn</td>\n",
       "      <td>vlluhbov</td>\n",
       "      <td>0</td>\n",
       "      <td>0</td>\n",
       "    </tr>\n",
       "    <tr>\n",
       "      <th>6</th>\n",
       "      <td>0.0</td>\n",
       "      <td>0.0</td>\n",
       "      <td>0.0</td>\n",
       "      <td>0.0</td>\n",
       "      <td>0.0</td>\n",
       "      <td>0.0</td>\n",
       "      <td>0.0</td>\n",
       "      <td>0.0</td>\n",
       "      <td>0.0</td>\n",
       "      <td>0.0</td>\n",
       "      <td>...</td>\n",
       "      <td>Own</td>\n",
       "      <td>Employed</td>\n",
       "      <td>qufhixun</td>\n",
       "      <td>MSA, Not Principle  City</td>\n",
       "      <td>0.0</td>\n",
       "      <td>0.0</td>\n",
       "      <td>xicduogh</td>\n",
       "      <td>xtkaffoo</td>\n",
       "      <td>0</td>\n",
       "      <td>0</td>\n",
       "    </tr>\n",
       "    <tr>\n",
       "      <th>7</th>\n",
       "      <td>1.0</td>\n",
       "      <td>0.0</td>\n",
       "      <td>0.0</td>\n",
       "      <td>1.0</td>\n",
       "      <td>0.0</td>\n",
       "      <td>1.0</td>\n",
       "      <td>0.0</td>\n",
       "      <td>0.0</td>\n",
       "      <td>1.0</td>\n",
       "      <td>1.0</td>\n",
       "      <td>...</td>\n",
       "      <td>Own</td>\n",
       "      <td>Employed</td>\n",
       "      <td>bhuqouqj</td>\n",
       "      <td>Non-MSA</td>\n",
       "      <td>2.0</td>\n",
       "      <td>0.0</td>\n",
       "      <td>pxcmvdjn</td>\n",
       "      <td>xqwwgdyp</td>\n",
       "      <td>1</td>\n",
       "      <td>1</td>\n",
       "    </tr>\n",
       "    <tr>\n",
       "      <th>8</th>\n",
       "      <td>0.0</td>\n",
       "      <td>2.0</td>\n",
       "      <td>0.0</td>\n",
       "      <td>1.0</td>\n",
       "      <td>0.0</td>\n",
       "      <td>1.0</td>\n",
       "      <td>1.0</td>\n",
       "      <td>1.0</td>\n",
       "      <td>1.0</td>\n",
       "      <td>0.0</td>\n",
       "      <td>...</td>\n",
       "      <td>Own</td>\n",
       "      <td>Employed</td>\n",
       "      <td>bhuqouqj</td>\n",
       "      <td>MSA, Not Principle  City</td>\n",
       "      <td>1.0</td>\n",
       "      <td>0.0</td>\n",
       "      <td>xicduogh</td>\n",
       "      <td>ccgxvspp</td>\n",
       "      <td>0</td>\n",
       "      <td>0</td>\n",
       "    </tr>\n",
       "    <tr>\n",
       "      <th>9</th>\n",
       "      <td>2.0</td>\n",
       "      <td>1.0</td>\n",
       "      <td>0.0</td>\n",
       "      <td>1.0</td>\n",
       "      <td>0.0</td>\n",
       "      <td>0.0</td>\n",
       "      <td>1.0</td>\n",
       "      <td>0.0</td>\n",
       "      <td>1.0</td>\n",
       "      <td>0.0</td>\n",
       "      <td>...</td>\n",
       "      <td>Own</td>\n",
       "      <td>Not in Labor Force</td>\n",
       "      <td>qufhixun</td>\n",
       "      <td>MSA, Not Principle  City</td>\n",
       "      <td>0.0</td>\n",
       "      <td>0.0</td>\n",
       "      <td>NaN</td>\n",
       "      <td>NaN</td>\n",
       "      <td>0</td>\n",
       "      <td>0</td>\n",
       "    </tr>\n",
       "  </tbody>\n",
       "</table>\n",
       "<p>10 rows × 37 columns</p>\n",
       "</div>"
      ],
      "text/plain": [
       "               xyz_concern  xyz_knowledge  behavioral_antiviral_meds  \\\n",
       "respondent_id                                                          \n",
       "0                      1.0            0.0                        0.0   \n",
       "1                      3.0            2.0                        0.0   \n",
       "2                      1.0            1.0                        0.0   \n",
       "3                      1.0            1.0                        0.0   \n",
       "4                      2.0            1.0                        0.0   \n",
       "5                      3.0            1.0                        0.0   \n",
       "6                      0.0            0.0                        0.0   \n",
       "7                      1.0            0.0                        0.0   \n",
       "8                      0.0            2.0                        0.0   \n",
       "9                      2.0            1.0                        0.0   \n",
       "\n",
       "               behavioral_avoidance  behavioral_face_mask  \\\n",
       "respondent_id                                               \n",
       "0                               0.0                   0.0   \n",
       "1                               1.0                   0.0   \n",
       "2                               1.0                   0.0   \n",
       "3                               1.0                   0.0   \n",
       "4                               1.0                   0.0   \n",
       "5                               1.0                   0.0   \n",
       "6                               0.0                   0.0   \n",
       "7                               1.0                   0.0   \n",
       "8                               1.0                   0.0   \n",
       "9                               1.0                   0.0   \n",
       "\n",
       "               behavioral_wash_hands  behavioral_large_gatherings  \\\n",
       "respondent_id                                                       \n",
       "0                                0.0                          0.0   \n",
       "1                                1.0                          0.0   \n",
       "2                                0.0                          0.0   \n",
       "3                                1.0                          1.0   \n",
       "4                                1.0                          1.0   \n",
       "5                                1.0                          0.0   \n",
       "6                                0.0                          0.0   \n",
       "7                                1.0                          0.0   \n",
       "8                                1.0                          1.0   \n",
       "9                                0.0                          1.0   \n",
       "\n",
       "               behavioral_outside_home  behavioral_touch_face  \\\n",
       "respondent_id                                                   \n",
       "0                                  1.0                    1.0   \n",
       "1                                  1.0                    1.0   \n",
       "2                                  0.0                    0.0   \n",
       "3                                  0.0                    0.0   \n",
       "4                                  0.0                    1.0   \n",
       "5                                  0.0                    1.0   \n",
       "6                                  0.0                    0.0   \n",
       "7                                  0.0                    1.0   \n",
       "8                                  1.0                    1.0   \n",
       "9                                  0.0                    1.0   \n",
       "\n",
       "               doctor_recc_xyz  ...  rent_or_own   employment_status  \\\n",
       "respondent_id                   ...                                    \n",
       "0                          0.0  ...          Own  Not in Labor Force   \n",
       "1                          0.0  ...         Rent            Employed   \n",
       "2                          NaN  ...          Own            Employed   \n",
       "3                          0.0  ...         Rent  Not in Labor Force   \n",
       "4                          0.0  ...          Own            Employed   \n",
       "5                          0.0  ...          Own            Employed   \n",
       "6                          0.0  ...          Own            Employed   \n",
       "7                          1.0  ...          Own            Employed   \n",
       "8                          0.0  ...          Own            Employed   \n",
       "9                          0.0  ...          Own  Not in Labor Force   \n",
       "\n",
       "               hhs_geo_region                census_msa  household_adults  \\\n",
       "respondent_id                                                               \n",
       "0                    oxchjgsf                   Non-MSA               0.0   \n",
       "1                    bhuqouqj  MSA, Not Principle  City               0.0   \n",
       "2                    qufhixun  MSA, Not Principle  City               2.0   \n",
       "3                    lrircsnp       MSA, Principle City               0.0   \n",
       "4                    qufhixun  MSA, Not Principle  City               1.0   \n",
       "5                    atmpeygn       MSA, Principle City               2.0   \n",
       "6                    qufhixun  MSA, Not Principle  City               0.0   \n",
       "7                    bhuqouqj                   Non-MSA               2.0   \n",
       "8                    bhuqouqj  MSA, Not Principle  City               1.0   \n",
       "9                    qufhixun  MSA, Not Principle  City               0.0   \n",
       "\n",
       "               household_children  employment_industry  employment_occupation  \\\n",
       "respondent_id                                                                   \n",
       "0                             0.0                  NaN                    NaN   \n",
       "1                             0.0             pxcmvdjn               xgwztkwe   \n",
       "2                             0.0             rucpziij               xtkaffoo   \n",
       "3                             0.0                  NaN                    NaN   \n",
       "4                             0.0             wxleyezf               emcorrxb   \n",
       "5                             3.0             saaquncn               vlluhbov   \n",
       "6                             0.0             xicduogh               xtkaffoo   \n",
       "7                             0.0             pxcmvdjn               xqwwgdyp   \n",
       "8                             0.0             xicduogh               ccgxvspp   \n",
       "9                             0.0                  NaN                    NaN   \n",
       "\n",
       "               xyz_vaccine  seasonal_vaccine  \n",
       "respondent_id                                 \n",
       "0                        0                 0  \n",
       "1                        0                 1  \n",
       "2                        0                 0  \n",
       "3                        0                 1  \n",
       "4                        0                 0  \n",
       "5                        0                 0  \n",
       "6                        0                 0  \n",
       "7                        1                 1  \n",
       "8                        0                 0  \n",
       "9                        0                 0  \n",
       "\n",
       "[10 rows x 37 columns]"
      ]
     },
     "execution_count": 46,
     "metadata": {},
     "output_type": "execute_result"
    }
   ],
   "source": [
    "df1=order.set_index('respondent_id')\n",
    "df2=parameters.set_index('respondent_id')\n",
    "result = df1.join(df2, how='left')\n",
    "result.head(10)"
   ]
  },
  {
   "cell_type": "code",
   "execution_count": 47,
   "id": "0a965b0a",
   "metadata": {},
   "outputs": [],
   "source": [
    "result.drop(columns=['employment_industry', 'employment_occupation','health_insurance'], inplace=True)"
   ]
  },
  {
   "cell_type": "code",
   "execution_count": 72,
   "id": "44023ae1",
   "metadata": {},
   "outputs": [
    {
     "data": {
      "text/plain": [
       "lzgpxyit    4297\n",
       "fpwskwrf    3265\n",
       "qufhixun    3102\n",
       "oxchjgsf    2859\n",
       "kbazzjca    2858\n",
       "bhuqouqj    2846\n",
       "mlyzmhmf    2243\n",
       "lrircsnp    2078\n",
       "atmpeygn    2033\n",
       "dqpwygqj    1126\n",
       "Name: hhs_geo_region, dtype: int64"
      ]
     },
     "execution_count": 72,
     "metadata": {},
     "output_type": "execute_result"
    }
   ],
   "source": [
    "result.hhs_geo_region.value_counts()"
   ]
  },
  {
   "cell_type": "code",
   "execution_count": 76,
   "id": "5b7e8924",
   "metadata": {},
   "outputs": [],
   "source": [
    "result.replace({'age_group':{'18 - 34 Years':0,'35 - 44 Years':1,'45 - 54 Years':2,'55 - 64 Years':3,'65+ Years':4}},inplace=True)"
   ]
  },
  {
   "cell_type": "code",
   "execution_count": 66,
   "id": "8dff710f",
   "metadata": {},
   "outputs": [],
   "source": [
    "result.replace({'education':{'< 12 Years':0,'12 Years':1,'Some College':2,'College Graduate':3}},inplace=True)"
   ]
  },
  {
   "cell_type": "code",
   "execution_count": 69,
   "id": "80521aa4",
   "metadata": {},
   "outputs": [],
   "source": [
    "result.replace({'race':{'White':0,'Black':1,'Hispanic':2,'Other or Multiple':3}},inplace=True)"
   ]
  },
  {
   "cell_type": "code",
   "execution_count": 70,
   "id": "635931b3",
   "metadata": {},
   "outputs": [],
   "source": [
    "result.replace({'sex':{'Male':0,'Female':1}},inplace=True)"
   ]
  },
  {
   "cell_type": "code",
   "execution_count": 73,
   "id": "e4435791",
   "metadata": {},
   "outputs": [],
   "source": [
    "result.replace({'hhs_geo_region':{'lzgpxyit':0,'fpwskwrf':1,'qufhixun':2,'oxchjgsf':3,'kbazzjca':4,'bhuqouqj':5,'mlyzmhmf':6,'lrircsnp':7,'atmpeygn':8,'dqpwygqj':9}},inplace=True)"
   ]
  },
  {
   "cell_type": "code",
   "execution_count": 78,
   "id": "e5ee7681",
   "metadata": {},
   "outputs": [],
   "source": [
    "result.to_csv('results_putput.csv',index=False)"
   ]
  },
  {
   "cell_type": "code",
   "execution_count": 86,
   "id": "706eae89",
   "metadata": {},
   "outputs": [],
   "source": [
    "cleaned=result.dropna(axis=0)"
   ]
  },
  {
   "cell_type": "code",
   "execution_count": 105,
   "id": "d227fd1e",
   "metadata": {},
   "outputs": [
    {
     "data": {
      "text/plain": [
       "(19642, 34)"
      ]
     },
     "execution_count": 105,
     "metadata": {},
     "output_type": "execute_result"
    }
   ],
   "source": [
    "cleaned.shape"
   ]
  },
  {
   "cell_type": "code",
   "execution_count": 95,
   "id": "c152a51f",
   "metadata": {},
   "outputs": [],
   "source": [
    "def logistic(x):\n",
    "\n",
    "    y = 1 / (1 + np.exp(-x))\n",
    "    return y"
   ]
  },
  {
   "cell_type": "code",
   "execution_count": 96,
   "id": "56bdd1bd",
   "metadata": {},
   "outputs": [],
   "source": [
    "def log_loss(y, y_dash):\n",
    "\n",
    "    loss = - (y * np.log(y_dash)) - ((1 - y) * np.log(1 - y_dash))\n",
    "    return loss"
   ]
  },
  {
   "cell_type": "code",
   "execution_count": 91,
   "id": "9be29a35",
   "metadata": {},
   "outputs": [],
   "source": [
    "def cost_func_vec(y, y_dash):\n",
    "\n",
    "    assert len(y) == len(y_dash), \n",
    "    m = len(y)\n",
    "    loss_vec = np.array([log_loss(y[i], y_dash[i]) for i in range(m)])\n",
    "    cost = np.dot(loss_vec, np.ones(m)) / m\n",
    "    return cost"
   ]
  },
  {
   "cell_type": "code",
   "execution_count": 92,
   "id": "3233bdcc",
   "metadata": {},
   "outputs": [],
   "source": [
    "def cost_logreg_vec(X, y, w, b):\n",
    "\n",
    "    m, n = X.shape\n",
    "    assert len(y) == m, \n",
    "    assert len(w) == n, \n",
    "    z = np.matmul(X, w) + (b * np.ones(m))\n",
    "    y_dash = logistic(z)\n",
    "    cost = cost_func_vec(y, y_dash)\n",
    "    return cost"
   ]
  },
  {
   "cell_type": "code",
   "execution_count": 93,
   "id": "56ca81dc",
   "metadata": {},
   "outputs": [],
   "source": [
    "def grad_logreg_vec(X, y, w, b): \n",
    "\n",
    "    m, n = X.shape\n",
    "    assert len(y) == m, \"Number of feature observations and number of target observations do not match\"\n",
    "    assert len(w) == n, \"Number of features and number of weight parameters do not match\"\n",
    "    y_dash = logistic(np.matmul(X, w) + b * np.ones(m))\n",
    "    grad_w = np.matmul(y_dash - y, X) / m\n",
    "    grad_b = np.dot(y_dash - y, np.ones(m)) / m\n",
    "    return grad_w, grad_b"
   ]
  },
  {
   "cell_type": "code",
   "execution_count": 99,
   "id": "f312e575",
   "metadata": {},
   "outputs": [],
   "source": [
    "def grad_desc(X, y, w, b, alpha, n_iter, show_cost = True, show_params = False): \n",
    " \n",
    "   \n",
    "    m, n = X.shape\n",
    "    assert len(y) == m, \"Number of feature observations and number of target observations do not match\"\n",
    "    assert len(w) == n, \"Number of features and number of weight parameters do not match\"\n",
    "    cost_history, params_history = [], []\n",
    "    for i, j in itertools.product(range(n_iter), range(1)):\n",
    "        grad_w, grad_b = grad_logreg_vec(X, y, w, b)   \n",
    "        w += - alpha * grad_w\n",
    "        b += - alpha * grad_b\n",
    "        cost =  cost_logreg_vec(X, y, w, b)\n",
    "        cost_history.append(cost)\n",
    "        params_history.append([w, b])\n",
    "        if show_cost == True and show_params == False and (i % math.ceil(n_iter / 10) == 0 or i == n_iter - 1):\n",
    "            print(f\"Iteration {i:6}:    Cost  {float(cost_history[i]):3.4f}\")\n",
    "        if show_cost == True and show_params == True and (i % math.ceil(n_iter / 10) == 0 or i == n_iter - 1):\n",
    "            print(f\"Iteration {i:6}:    Cost  {float(cost_history[i]):3.4f},    Params  {params_history[i]}\")\n",
    "    return w, b, cost_history, params_history\n"
   ]
  },
  {
   "cell_type": "code",
   "execution_count": 100,
   "id": "020d782a",
   "metadata": {},
   "outputs": [],
   "source": [
    "data_xyz=cleaned.drop(columns=['doctor_recc_seasonal','opinion_seas_vacc_effective','opinion_seas_risk','opinion_seas_sick_from_vacc','seasonal_vaccine'])"
   ]
  },
  {
   "cell_type": "code",
   "execution_count": 106,
   "id": "7e1b47b2",
   "metadata": {},
   "outputs": [],
   "source": [
    "data_seas=cleaned.drop(columns=['doctor_recc_xyz','opinion_xyz_vacc_effective','opinion_xyz_risk','opinion_xyz_sick_from_vacc','xyz_vaccine','xyz_knowledge','xyz_concern'])"
   ]
  },
  {
   "cell_type": "code",
   "execution_count": 119,
   "id": "83653cb5",
   "metadata": {},
   "outputs": [],
   "source": [
    "for col in data_xyz.columns:\n",
    "    if (data_xyz[col].dtypes == 'int64' or data_xyz[col].dtypes == 'float64') and data_xyz[col].nunique() > 1:\n",
    "        data_xyz[col] = (data_xyz[col] - data_xyz[col].min()) / (data_xyz[col].max() - data_xyz[col].min())\n",
    "for col in data_seas.columns:\n",
    "    if (data_seas[col].dtypes == 'int64' or data_seas[col].dtypes == 'float64') and data_seas[col].nunique() > 1:\n",
    "        data_seas[col] = (data_seas[col] - data_seas[col].min()) / (data_seas[col].max() - data_seas[col].min())"
   ]
  },
  {
   "cell_type": "code",
   "execution_count": 121,
   "id": "485a12ad",
   "metadata": {},
   "outputs": [],
   "source": [
    "X_xyz , y_xyz=data_xyz.drop(columns=['xyz_vaccine']),data_xyz['xyz_vaccine']"
   ]
  },
  {
   "cell_type": "code",
   "execution_count": 122,
   "id": "9e12ba96",
   "metadata": {},
   "outputs": [],
   "source": [
    "X_seas , y_seas=data_seas.drop(columns=['seasonal_vaccine']),data_seas['seasonal_vaccine']"
   ]
  },
  {
   "cell_type": "code",
   "execution_count": 125,
   "id": "bb756ba9",
   "metadata": {},
   "outputs": [
    {
     "data": {
      "text/plain": [
       "(19642, 28)"
      ]
     },
     "execution_count": 125,
     "metadata": {},
     "output_type": "execute_result"
    }
   ],
   "source": [
    "X_xyz.shape"
   ]
  },
  {
   "cell_type": "code",
   "execution_count": 126,
   "id": "dcdb5d79",
   "metadata": {},
   "outputs": [],
   "source": [
    "w_xyz=np.ones(28).astype(float)\n",
    "b_xyz=1"
   ]
  },
  {
   "cell_type": "code",
   "execution_count": 129,
   "id": "709e999d",
   "metadata": {},
   "outputs": [
    {
     "data": {
      "text/plain": [
       "(19642, 26)"
      ]
     },
     "execution_count": 129,
     "metadata": {},
     "output_type": "execute_result"
    }
   ],
   "source": [
    "X_seas.shape"
   ]
  },
  {
   "cell_type": "code",
   "execution_count": 130,
   "id": "891a6e2e",
   "metadata": {},
   "outputs": [],
   "source": [
    "w_seas=np.ones(26).astype(float)\n",
    "b_seas=1"
   ]
  },
  {
   "cell_type": "code",
   "execution_count": 134,
   "id": "8c4d620e",
   "metadata": {},
   "outputs": [
    {
     "data": {
      "application/vnd.jupyter.widget-view+json": {
       "model_id": "eb458cef628643f4978a28fb7139e216",
       "version_major": 2,
       "version_minor": 0
      },
      "text/plain": [
       "  0%|          | 0/20000 [00:00<?, ?it/s]"
      ]
     },
     "metadata": {},
     "output_type": "display_data"
    },
    {
     "name": "stdout",
     "output_type": "stream",
     "text": [
      "Iteration      0:    Cost  1.3229\n",
      "Iteration   2000:    Cost  0.4132\n",
      "Iteration   4000:    Cost  0.4038\n",
      "Iteration   6000:    Cost  0.4001\n",
      "Iteration   8000:    Cost  0.3985\n",
      "Iteration  10000:    Cost  0.3977\n",
      "Iteration  12000:    Cost  0.3974\n",
      "Iteration  14000:    Cost  0.3972\n",
      "Iteration  16000:    Cost  0.3972\n",
      "Iteration  18000:    Cost  0.3971\n",
      "Iteration  19999:    Cost  0.3971\n"
     ]
    }
   ],
   "source": [
    "w_out_xyz, b_out_xyz, cost_history_xyz, params_history_xyz = grad_desc(X_xyz.to_numpy(),\n",
    "                                                       y_xyz.to_numpy(),\n",
    "                                                       w = w_xyz, # np.zeros(X_train.shape[1]),\n",
    "                                                       b = b_xyz, # 0,\n",
    "                                                       alpha = 0.1,\n",
    "                                                       n_iter = 20000)"
   ]
  },
  {
   "cell_type": "code",
   "execution_count": 135,
   "id": "515d3e0f",
   "metadata": {},
   "outputs": [
    {
     "data": {
      "application/vnd.jupyter.widget-view+json": {
       "model_id": "c053ff91f5544e16b22e603790b0d2e6",
       "version_major": 2,
       "version_minor": 0
      },
      "text/plain": [
       "  0%|          | 0/20000 [00:00<?, ?it/s]"
      ]
     },
     "metadata": {},
     "output_type": "display_data"
    },
    {
     "name": "stdout",
     "output_type": "stream",
     "text": [
      "Iteration      0:    Cost  5.5380\n",
      "Iteration   2000:    Cost  0.4852\n",
      "Iteration   4000:    Cost  0.4798\n",
      "Iteration   6000:    Cost  0.4782\n",
      "Iteration   8000:    Cost  0.4777\n",
      "Iteration  10000:    Cost  0.4775\n",
      "Iteration  12000:    Cost  0.4774\n",
      "Iteration  14000:    Cost  0.4774\n",
      "Iteration  16000:    Cost  0.4774\n",
      "Iteration  18000:    Cost  0.4774\n",
      "Iteration  19999:    Cost  0.4774\n"
     ]
    }
   ],
   "source": [
    "w_out_seas, b_out_seas, cost_history_seas, params_history_seas = grad_desc(X_seas.to_numpy(),\n",
    "                                                       y_seas.to_numpy(),\n",
    "                                                       w = w_seas, # np.zeros(X_train.shape[1]),\n",
    "                                                       b = b_seas, # 0,\n",
    "                                                       alpha = 0.1,\n",
    "                                                       n_iter = 20000)"
   ]
  },
  {
   "cell_type": "code",
   "execution_count": 137,
   "id": "da6724ab",
   "metadata": {},
   "outputs": [],
   "source": [
    "test_set=pd.read_table('test_set_features.csv',sep=',')"
   ]
  },
  {
   "cell_type": "code",
   "execution_count": 138,
   "id": "664bec96",
   "metadata": {},
   "outputs": [],
   "source": [
    "test_set.drop(columns=['employment_industry', 'employment_occupation','health_insurance'], inplace=True)"
   ]
  },
  {
   "cell_type": "code",
   "execution_count": 140,
   "id": "e84f6258",
   "metadata": {},
   "outputs": [],
   "source": [
    "test_set.replace({'marital_status':{'Married':1,'Not Married':0}},inplace=True)"
   ]
  },
  {
   "cell_type": "code",
   "execution_count": 144,
   "id": "680b614c",
   "metadata": {},
   "outputs": [
    {
     "data": {
      "text/plain": [
       "<= $75,000, Above Poverty    12775\n",
       "> $75,000                     6863\n",
       "Below Poverty                 2573\n",
       "Name: income_poverty, dtype: int64"
      ]
     },
     "execution_count": 144,
     "metadata": {},
     "output_type": "execute_result"
    }
   ],
   "source": [
    "test_set..value_counts()"
   ]
  },
  {
   "cell_type": "code",
   "execution_count": 145,
   "id": "ed6d456e",
   "metadata": {},
   "outputs": [],
   "source": [
    "test_set.replace({'income_poverty':{'<= $75,000, Above Poverty':2,'> $75,000':1,'Below Poverty':0}},inplace=True)"
   ]
  },
  {
   "cell_type": "code",
   "execution_count": 146,
   "id": "45367ead",
   "metadata": {},
   "outputs": [],
   "source": [
    "test_set.replace({'rent_or_own':{'Rent':1,'Own':0}},inplace=True)"
   ]
  },
  {
   "cell_type": "code",
   "execution_count": 147,
   "id": "0179dc8f",
   "metadata": {},
   "outputs": [],
   "source": [
    "test_set.replace({'age_group':{'18 - 34 Years':0,'35 - 44 Years':1,'45 - 54 Years':2,'55 - 64 Years':3,'65+ Years':4}},inplace=True)"
   ]
  },
  {
   "cell_type": "code",
   "execution_count": 149,
   "id": "e0a3f19d",
   "metadata": {},
   "outputs": [],
   "source": [
    "test_set.replace({'education':{'< 12 Years':0,'12 Years':1,'Some College':2,'College Graduate':3}},inplace=True)"
   ]
  },
  {
   "cell_type": "code",
   "execution_count": 150,
   "id": "87675b80",
   "metadata": {},
   "outputs": [],
   "source": [
    "test_set.replace({'race':{'White':0,'Black':1,'Hispanic':2,'Other or Multiple':3}},inplace=True)"
   ]
  },
  {
   "cell_type": "code",
   "execution_count": 151,
   "id": "5e96170b",
   "metadata": {},
   "outputs": [],
   "source": [
    "test_set.replace({'sex':{'Male':0,'Female':1}},inplace=True)"
   ]
  },
  {
   "cell_type": "code",
   "execution_count": 152,
   "id": "b7ddce97",
   "metadata": {},
   "outputs": [],
   "source": [
    "test_set.replace({'hhs_geo_region':{'lzgpxyit':0,'fpwskwrf':1,'qufhixun':2,'oxchjgsf':3,'kbazzjca':4,'bhuqouqj':5,'mlyzmhmf':6,'lrircsnp':7,'atmpeygn':8,'dqpwygqj':9}},inplace=True)"
   ]
  },
  {
   "cell_type": "code",
   "execution_count": 156,
   "id": "d8ea67db",
   "metadata": {},
   "outputs": [
    {
     "data": {
      "text/plain": [
       "MSA, Not Principle  City    11926\n",
       "MSA, Principle City          7805\n",
       "Non-MSA                      6977\n",
       "Name: census_msa, dtype: int64"
      ]
     },
     "execution_count": 156,
     "metadata": {},
     "output_type": "execute_result"
    }
   ],
   "source": [
    "test_set.census_msa.value_counts()"
   ]
  },
  {
   "cell_type": "code",
   "execution_count": 155,
   "id": "4f97addf",
   "metadata": {},
   "outputs": [],
   "source": [
    "test_set.replace({'employment_status':{'Unemployed':0,'Employed':1,'Not in Labor Force':2}},inplace=True)"
   ]
  },
  {
   "cell_type": "code",
   "execution_count": 157,
   "id": "1d368449",
   "metadata": {},
   "outputs": [],
   "source": [
    "test_set.replace({'census_msa':{'Non-MSA':0,'MSA, Not Principle  City':1,'MSA, Principle City':2}},inplace=True)"
   ]
  },
  {
   "cell_type": "code",
   "execution_count": 160,
   "id": "89e12a74",
   "metadata": {},
   "outputs": [],
   "source": [
    "test_xyz=test_set.drop(columns=['doctor_recc_seasonal','opinion_seas_vacc_effective','opinion_seas_risk','opinion_seas_sick_from_vacc'])"
   ]
  },
  {
   "cell_type": "code",
   "execution_count": 161,
   "id": "cda65dc4",
   "metadata": {},
   "outputs": [],
   "source": [
    "test_seas=test_set.drop(columns=['doctor_recc_xyz','opinion_xyz_vacc_effective','opinion_xyz_risk','opinion_xyz_sick_from_vacc','xyz_knowledge','xyz_concern'])"
   ]
  },
  {
   "cell_type": "code",
   "execution_count": 166,
   "id": "889f5f3c",
   "metadata": {},
   "outputs": [],
   "source": [
    "test_xyz.set_index('respondent_id',inplace=True)"
   ]
  },
  {
   "cell_type": "code",
   "execution_count": 167,
   "id": "3e47dfe9",
   "metadata": {},
   "outputs": [],
   "source": [
    "test_seas.set_index('respondent_id',inplace=True)"
   ]
  },
  {
   "cell_type": "code",
   "execution_count": 178,
   "id": "6a4038f1",
   "metadata": {},
   "outputs": [],
   "source": [
    "y_test_xyz=logistic(np.matmul(test_xyz.to_numpy(), w_out_xyz) + (b_out_xyz * np.ones(test_xyz.shape[0])))"
   ]
  },
  {
   "cell_type": "code",
   "execution_count": 179,
   "id": "82e52d59",
   "metadata": {},
   "outputs": [],
   "source": [
    "y_test_seas=logistic(np.matmul(test_seas.to_numpy(), w_out_seas) + (b_out_seas * np.ones(test_seas.shape[0])))"
   ]
  },
  {
   "cell_type": "code",
   "execution_count": 177,
   "id": "a62dd1e7",
   "metadata": {},
   "outputs": [],
   "source": [
    "for col in test_xyz.columns:\n",
    "    if (test_xyz[col].dtypes == 'int64' or test_xyz[col].dtypes == 'float64') and test_xyz[col].nunique() > 1:\n",
    "        test_xyz[col] = (test_xyz[col] - test_xyz[col].min()) / (test_xyz[col].max() - test_xyz[col].min())\n",
    "for col in test_seas.columns:\n",
    "    if (test_seas[col].dtypes == 'int64' or test_seas[col].dtypes == 'float64') and test_seas[col].nunique() > 1:\n",
    "        test_seas[col] = (test_seas[col] - test_seas[col].min()) / (test_seas[col].max() - test_seas[col].min())"
   ]
  },
  {
   "cell_type": "code",
   "execution_count": 180,
   "id": "30f713a3",
   "metadata": {},
   "outputs": [
    {
     "data": {
      "text/plain": [
       "array([0.08301824, 0.04526438, 0.47005349, ..., 0.11786379, 0.05323553,\n",
       "              nan])"
      ]
     },
     "execution_count": 180,
     "metadata": {},
     "output_type": "execute_result"
    }
   ],
   "source": [
    "y_test_xyz"
   ]
  },
  {
   "cell_type": "code",
   "execution_count": 190,
   "id": "8616822c",
   "metadata": {},
   "outputs": [],
   "source": [
    "df=pd.read_table('test_set_features.csv',sep=',')"
   ]
  },
  {
   "cell_type": "code",
   "execution_count": 193,
   "id": "fe6f7bdb",
   "metadata": {},
   "outputs": [],
   "source": [
    "df=df.iloc[0:,0:1]"
   ]
  },
  {
   "cell_type": "code",
   "execution_count": 195,
   "id": "d8487a26",
   "metadata": {},
   "outputs": [],
   "source": [
    "df['xyz_vaccine']=y_test_xyz"
   ]
  },
  {
   "cell_type": "code",
   "execution_count": 196,
   "id": "0daffeb4",
   "metadata": {},
   "outputs": [],
   "source": [
    "df['seasonal_vaccine']=y_test_seas"
   ]
  },
  {
   "cell_type": "code",
   "execution_count": 197,
   "id": "4d81ec4f",
   "metadata": {},
   "outputs": [
    {
     "data": {
      "text/html": [
       "<div>\n",
       "<style scoped>\n",
       "    .dataframe tbody tr th:only-of-type {\n",
       "        vertical-align: middle;\n",
       "    }\n",
       "\n",
       "    .dataframe tbody tr th {\n",
       "        vertical-align: top;\n",
       "    }\n",
       "\n",
       "    .dataframe thead th {\n",
       "        text-align: right;\n",
       "    }\n",
       "</style>\n",
       "<table border=\"1\" class=\"dataframe\">\n",
       "  <thead>\n",
       "    <tr style=\"text-align: right;\">\n",
       "      <th></th>\n",
       "      <th>respondent_id</th>\n",
       "      <th>xyz_vaccine</th>\n",
       "      <th>seasonal_vaccine</th>\n",
       "    </tr>\n",
       "  </thead>\n",
       "  <tbody>\n",
       "    <tr>\n",
       "      <th>0</th>\n",
       "      <td>26707</td>\n",
       "      <td>0.083018</td>\n",
       "      <td>0.182995</td>\n",
       "    </tr>\n",
       "    <tr>\n",
       "      <th>1</th>\n",
       "      <td>26708</td>\n",
       "      <td>0.045264</td>\n",
       "      <td>0.041221</td>\n",
       "    </tr>\n",
       "    <tr>\n",
       "      <th>2</th>\n",
       "      <td>26709</td>\n",
       "      <td>0.470053</td>\n",
       "      <td>0.651138</td>\n",
       "    </tr>\n",
       "    <tr>\n",
       "      <th>3</th>\n",
       "      <td>26710</td>\n",
       "      <td>0.463651</td>\n",
       "      <td>0.903381</td>\n",
       "    </tr>\n",
       "    <tr>\n",
       "      <th>4</th>\n",
       "      <td>26711</td>\n",
       "      <td>0.183584</td>\n",
       "      <td>0.595468</td>\n",
       "    </tr>\n",
       "    <tr>\n",
       "      <th>...</th>\n",
       "      <td>...</td>\n",
       "      <td>...</td>\n",
       "      <td>...</td>\n",
       "    </tr>\n",
       "    <tr>\n",
       "      <th>26703</th>\n",
       "      <td>53410</td>\n",
       "      <td>NaN</td>\n",
       "      <td>NaN</td>\n",
       "    </tr>\n",
       "    <tr>\n",
       "      <th>26704</th>\n",
       "      <td>53411</td>\n",
       "      <td>0.065663</td>\n",
       "      <td>0.257544</td>\n",
       "    </tr>\n",
       "    <tr>\n",
       "      <th>26705</th>\n",
       "      <td>53412</td>\n",
       "      <td>0.117864</td>\n",
       "      <td>0.184747</td>\n",
       "    </tr>\n",
       "    <tr>\n",
       "      <th>26706</th>\n",
       "      <td>53413</td>\n",
       "      <td>0.053236</td>\n",
       "      <td>0.492974</td>\n",
       "    </tr>\n",
       "    <tr>\n",
       "      <th>26707</th>\n",
       "      <td>53414</td>\n",
       "      <td>NaN</td>\n",
       "      <td>NaN</td>\n",
       "    </tr>\n",
       "  </tbody>\n",
       "</table>\n",
       "<p>26708 rows × 3 columns</p>\n",
       "</div>"
      ],
      "text/plain": [
       "       respondent_id  xyz_vaccine  seasonal_vaccine\n",
       "0              26707     0.083018          0.182995\n",
       "1              26708     0.045264          0.041221\n",
       "2              26709     0.470053          0.651138\n",
       "3              26710     0.463651          0.903381\n",
       "4              26711     0.183584          0.595468\n",
       "...              ...          ...               ...\n",
       "26703          53410          NaN               NaN\n",
       "26704          53411     0.065663          0.257544\n",
       "26705          53412     0.117864          0.184747\n",
       "26706          53413     0.053236          0.492974\n",
       "26707          53414          NaN               NaN\n",
       "\n",
       "[26708 rows x 3 columns]"
      ]
     },
     "execution_count": 197,
     "metadata": {},
     "output_type": "execute_result"
    }
   ],
   "source": [
    "df"
   ]
  },
  {
   "cell_type": "code",
   "execution_count": null,
   "id": "144a01b4",
   "metadata": {},
   "outputs": [],
   "source": [
    "df.to_csv('result_datahack.csv',)"
   ]
  }
 ],
 "metadata": {
  "kernelspec": {
   "display_name": "Python 3 (ipykernel)",
   "language": "python",
   "name": "python3"
  },
  "language_info": {
   "codemirror_mode": {
    "name": "ipython",
    "version": 3
   },
   "file_extension": ".py",
   "mimetype": "text/x-python",
   "name": "python",
   "nbconvert_exporter": "python",
   "pygments_lexer": "ipython3",
   "version": "3.10.9"
  }
 },
 "nbformat": 4,
 "nbformat_minor": 5
}
